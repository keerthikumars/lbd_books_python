{
 "cells": [
  {
   "cell_type": "code",
   "execution_count": 1,
   "metadata": {
    "collapsed": true
   },
   "outputs": [],
   "source": [
    "import pandas as pd\n",
    "import datetime as dt"
   ]
  },
  {
   "cell_type": "markdown",
   "metadata": {},
   "source": [
    "### Review of Python's `datetime` module"
   ]
  },
  {
   "cell_type": "code",
   "execution_count": 2,
   "metadata": {
    "collapsed": false
   },
   "outputs": [],
   "source": [
    "someday = dt.date(2016,4,12)"
   ]
  },
  {
   "cell_type": "code",
   "execution_count": 3,
   "metadata": {
    "collapsed": false
   },
   "outputs": [
    {
     "data": {
      "text/plain": [
       "12"
      ]
     },
     "execution_count": 3,
     "metadata": {},
     "output_type": "execute_result"
    }
   ],
   "source": [
    "someday.day"
   ]
  },
  {
   "cell_type": "code",
   "execution_count": 4,
   "metadata": {
    "collapsed": false
   },
   "outputs": [
    {
     "data": {
      "text/plain": [
       "'2016-04-12'"
      ]
     },
     "execution_count": 4,
     "metadata": {},
     "output_type": "execute_result"
    }
   ],
   "source": [
    "str(someday)"
   ]
  },
  {
   "cell_type": "code",
   "execution_count": 5,
   "metadata": {
    "collapsed": false
   },
   "outputs": [
    {
     "data": {
      "text/plain": [
       "'2010-01-10 17:13:57'"
      ]
     },
     "execution_count": 5,
     "metadata": {},
     "output_type": "execute_result"
    }
   ],
   "source": [
    "str(dt.datetime(2010,1,10,17,13,57))"
   ]
  },
  {
   "cell_type": "markdown",
   "metadata": {},
   "source": [
    "### The `timestamp` object"
   ]
  },
  {
   "cell_type": "code",
   "execution_count": 6,
   "metadata": {
    "collapsed": false
   },
   "outputs": [
    {
     "data": {
      "text/plain": [
       "Timestamp('2015-03-31 00:00:00')"
      ]
     },
     "execution_count": 6,
     "metadata": {},
     "output_type": "execute_result"
    }
   ],
   "source": [
    "pd.Timestamp(\"2015-03-31\")"
   ]
  },
  {
   "cell_type": "code",
   "execution_count": 7,
   "metadata": {
    "collapsed": false
   },
   "outputs": [
    {
     "data": {
      "text/plain": [
       "Timestamp('2015-12-19 00:00:00')"
      ]
     },
     "execution_count": 7,
     "metadata": {},
     "output_type": "execute_result"
    }
   ],
   "source": [
    "pd.Timestamp(\"12/19/2015\")"
   ]
  },
  {
   "cell_type": "code",
   "execution_count": 8,
   "metadata": {
    "collapsed": false
   },
   "outputs": [
    {
     "data": {
      "text/plain": [
       "Timestamp('2015-12-19 00:00:00')"
      ]
     },
     "execution_count": 8,
     "metadata": {},
     "output_type": "execute_result"
    }
   ],
   "source": [
    "pd.Timestamp(\"12/19/2015\")"
   ]
  },
  {
   "cell_type": "code",
   "execution_count": 9,
   "metadata": {
    "collapsed": false
   },
   "outputs": [
    {
     "data": {
      "text/plain": [
       "DatetimeIndex(['2009-10-10', '2010-01-18', '2010-04-28', '2010-08-06',\n",
       "               '2010-11-14', '2011-02-22', '2011-06-02', '2011-09-10',\n",
       "               '2011-12-19', '2012-03-28', '2012-07-06', '2012-10-14',\n",
       "               '2013-01-22', '2013-05-02', '2013-08-10', '2013-11-18',\n",
       "               '2014-02-26', '2014-06-06', '2014-09-14', '2014-12-23',\n",
       "               '2015-04-02', '2015-07-11', '2015-10-19', '2016-01-27',\n",
       "               '2016-05-06', '2016-08-14', '2016-11-22', '2017-03-02',\n",
       "               '2017-06-10', '2017-09-18', '2017-12-27', '2018-04-06',\n",
       "               '2018-07-15', '2018-10-23', '2019-01-31', '2019-05-11',\n",
       "               '2019-08-19', '2019-11-27', '2020-03-06', '2020-06-14',\n",
       "               '2020-09-22', '2020-12-31', '2021-04-10', '2021-07-19',\n",
       "               '2021-10-27', '2022-02-04', '2022-05-15', '2022-08-23',\n",
       "               '2022-12-01', '2023-03-11', '2023-06-19', '2023-09-27',\n",
       "               '2024-01-05', '2024-04-14', '2024-07-23', '2024-10-31',\n",
       "               '2025-02-08', '2025-05-19', '2025-08-27', '2025-12-05',\n",
       "               '2026-03-15', '2026-06-23', '2026-10-01', '2027-01-09',\n",
       "               '2027-04-19', '2027-07-28', '2027-11-05', '2028-02-13',\n",
       "               '2028-05-23', '2028-08-31', '2028-12-09', '2029-03-19',\n",
       "               '2029-06-27', '2029-10-05', '2030-01-13', '2030-04-23',\n",
       "               '2030-08-01', '2030-11-09', '2031-02-17', '2031-05-28',\n",
       "               '2031-09-05', '2031-12-14', '2032-03-23', '2032-07-01',\n",
       "               '2032-10-09', '2033-01-17', '2033-04-27', '2033-08-05',\n",
       "               '2033-11-13', '2034-02-21', '2034-06-01', '2034-09-09',\n",
       "               '2034-12-18', '2035-03-28', '2035-07-06', '2035-10-14',\n",
       "               '2036-01-22', '2036-05-01', '2036-08-09', '2036-11-17'],\n",
       "              dtype='datetime64[ns]', freq='100D')"
      ]
     },
     "execution_count": 9,
     "metadata": {},
     "output_type": "execute_result"
    }
   ],
   "source": [
    "pd.date_range(start=\"2009-10-10\", periods = 100, freq=\"100D\")"
   ]
  },
  {
   "cell_type": "code",
   "execution_count": 10,
   "metadata": {
    "collapsed": true
   },
   "outputs": [],
   "source": [
    "import pandas as pd\n",
    "import datetime as dt\n",
    "from pandas_datareader import data"
   ]
  },
  {
   "cell_type": "code",
   "execution_count": 3,
   "metadata": {
    "collapsed": false
   },
   "outputs": [
    {
     "name": "stderr",
     "output_type": "stream",
     "text": [
      "d:\\Anaconda3\\envs\\py3\\lib\\site-packages\\pandas_datareader\\google\\daily.py:40: UnstableAPIWarning: \n",
      "The Google Finance API has not been stable since late 2017. Requests seem\n",
      "to fail at random. Failure is especially common when bulk downloading.\n",
      "\n",
      "  warnings.warn(UNSTABLE_WARNING, UnstableAPIWarning)\n"
     ]
    },
    {
     "ename": "RemoteDataError",
     "evalue": "Unable to read URL: https://finance.google.com/finance/historical?q=MSFT&startdate=Jan+01%2C+2017&enddate=Dec+31%2C+2017&output=csv\nResponse Text:\nb'<html><head><meta http-equiv=\"content-type\" content=\"text/html; charset=utf-8\"/><title>Sorry...</title><style> body { font-family: verdana, arial, sans-serif; background-color: #fff; color: #000; }</style></head><body><div><table><tr><td><b><font face=sans-serif size=10><font color=#4285f4>G</font><font color=#ea4335>o</font><font color=#fbbc05>o</font><font color=#4285f4>g</font><font color=#34a853>l</font><font color=#ea4335>e</font></font></b></td><td style=\"text-align: left; vertical-align: bottom; padding-bottom: 15px; width: 50%\"><div style=\"border-bottom: 1px solid #dfdfdf;\">Sorry...</div></td></tr></table></div><div style=\"margin-left: 4em;\"><h1>We\\'re sorry...</h1><p>... but your computer or network may be sending automated queries. To protect our users, we can\\'t process your request right now.</p></div><div style=\"margin-left: 4em;\">See <a href=\"https://support.google.com/websearch/answer/86640\">Google Help</a> for more information.<br/><br/></div><div style=\"text-align: center; border-top: 1px solid #dfdfdf;\"><a href=\"https://www.google.com\">Google Home</a></div></body></html>'",
     "output_type": "error",
     "traceback": [
      "\u001b[1;31m---------------------------------------------------------------------------\u001b[0m",
      "\u001b[1;31mRemoteDataError\u001b[0m                           Traceback (most recent call last)",
      "\u001b[1;32m<ipython-input-3-b55308d38764>\u001b[0m in \u001b[0;36m<module>\u001b[1;34m()\u001b[0m\n\u001b[0;32m      2\u001b[0m \u001b[0mstart\u001b[0m \u001b[1;33m=\u001b[0m \u001b[1;34m\"2017-01-01\"\u001b[0m\u001b[1;33m\u001b[0m\u001b[0m\n\u001b[0;32m      3\u001b[0m \u001b[0mend\u001b[0m \u001b[1;33m=\u001b[0m \u001b[1;34m\"2017-12-31\"\u001b[0m\u001b[1;33m\u001b[0m\u001b[0m\n\u001b[1;32m----> 4\u001b[1;33m \u001b[0mdata\u001b[0m\u001b[1;33m.\u001b[0m\u001b[0mDataReader\u001b[0m\u001b[1;33m(\u001b[0m\u001b[0mname\u001b[0m\u001b[1;33m=\u001b[0m\u001b[0mcompany\u001b[0m\u001b[1;33m,\u001b[0m \u001b[0mdata_source\u001b[0m\u001b[1;33m=\u001b[0m\u001b[1;34m\"google\"\u001b[0m\u001b[1;33m,\u001b[0m \u001b[0mstart\u001b[0m\u001b[1;33m=\u001b[0m\u001b[0mstart\u001b[0m\u001b[1;33m,\u001b[0m \u001b[0mend\u001b[0m\u001b[1;33m=\u001b[0m\u001b[0mend\u001b[0m\u001b[1;33m)\u001b[0m\u001b[1;33m\u001b[0m\u001b[0m\n\u001b[0m",
      "\u001b[1;32md:\\Anaconda3\\envs\\py3\\lib\\site-packages\\pandas_datareader\\data.py\u001b[0m in \u001b[0;36mDataReader\u001b[1;34m(name, data_source, start, end, retry_count, pause, session, access_key)\u001b[0m\n\u001b[0;32m    313\u001b[0m                                  \u001b[0mchunksize\u001b[0m\u001b[1;33m=\u001b[0m\u001b[1;36m25\u001b[0m\u001b[1;33m,\u001b[0m\u001b[1;33m\u001b[0m\u001b[0m\n\u001b[0;32m    314\u001b[0m                                  \u001b[0mretry_count\u001b[0m\u001b[1;33m=\u001b[0m\u001b[0mretry_count\u001b[0m\u001b[1;33m,\u001b[0m \u001b[0mpause\u001b[0m\u001b[1;33m=\u001b[0m\u001b[0mpause\u001b[0m\u001b[1;33m,\u001b[0m\u001b[1;33m\u001b[0m\u001b[0m\n\u001b[1;32m--> 315\u001b[1;33m                                  session=session).read()\n\u001b[0m\u001b[0;32m    316\u001b[0m \u001b[1;33m\u001b[0m\u001b[0m\n\u001b[0;32m    317\u001b[0m     \u001b[1;32melif\u001b[0m \u001b[0mdata_source\u001b[0m \u001b[1;33m==\u001b[0m \u001b[1;34m\"iex\"\u001b[0m\u001b[1;33m:\u001b[0m\u001b[1;33m\u001b[0m\u001b[0m\n",
      "\u001b[1;32md:\\Anaconda3\\envs\\py3\\lib\\site-packages\\pandas_datareader\\base.py\u001b[0m in \u001b[0;36mread\u001b[1;34m(self)\u001b[0m\n\u001b[0;32m    204\u001b[0m         \u001b[1;32mif\u001b[0m \u001b[0misinstance\u001b[0m\u001b[1;33m(\u001b[0m\u001b[0mself\u001b[0m\u001b[1;33m.\u001b[0m\u001b[0msymbols\u001b[0m\u001b[1;33m,\u001b[0m \u001b[1;33m(\u001b[0m\u001b[0mcompat\u001b[0m\u001b[1;33m.\u001b[0m\u001b[0mstring_types\u001b[0m\u001b[1;33m,\u001b[0m \u001b[0mint\u001b[0m\u001b[1;33m)\u001b[0m\u001b[1;33m)\u001b[0m\u001b[1;33m:\u001b[0m\u001b[1;33m\u001b[0m\u001b[0m\n\u001b[0;32m    205\u001b[0m             df = self._read_one_data(self.url,\n\u001b[1;32m--> 206\u001b[1;33m                                      params=self._get_params(self.symbols))\n\u001b[0m\u001b[0;32m    207\u001b[0m         \u001b[1;31m# Or multiple symbols, (e.g., ['GOOG', 'AAPL', 'MSFT'])\u001b[0m\u001b[1;33m\u001b[0m\u001b[1;33m\u001b[0m\u001b[0m\n\u001b[0;32m    208\u001b[0m         \u001b[1;32melif\u001b[0m \u001b[0misinstance\u001b[0m\u001b[1;33m(\u001b[0m\u001b[0mself\u001b[0m\u001b[1;33m.\u001b[0m\u001b[0msymbols\u001b[0m\u001b[1;33m,\u001b[0m \u001b[0mDataFrame\u001b[0m\u001b[1;33m)\u001b[0m\u001b[1;33m:\u001b[0m\u001b[1;33m\u001b[0m\u001b[0m\n",
      "\u001b[1;32md:\\Anaconda3\\envs\\py3\\lib\\site-packages\\pandas_datareader\\base.py\u001b[0m in \u001b[0;36m_read_one_data\u001b[1;34m(self, url, params)\u001b[0m\n\u001b[0;32m     82\u001b[0m         \u001b[1;34m\"\"\" read one data from specified URL \"\"\"\u001b[0m\u001b[1;33m\u001b[0m\u001b[0m\n\u001b[0;32m     83\u001b[0m         \u001b[1;32mif\u001b[0m \u001b[0mself\u001b[0m\u001b[1;33m.\u001b[0m\u001b[0m_format\u001b[0m \u001b[1;33m==\u001b[0m \u001b[1;34m'string'\u001b[0m\u001b[1;33m:\u001b[0m\u001b[1;33m\u001b[0m\u001b[0m\n\u001b[1;32m---> 84\u001b[1;33m             \u001b[0mout\u001b[0m \u001b[1;33m=\u001b[0m \u001b[0mself\u001b[0m\u001b[1;33m.\u001b[0m\u001b[0m_read_url_as_StringIO\u001b[0m\u001b[1;33m(\u001b[0m\u001b[0murl\u001b[0m\u001b[1;33m,\u001b[0m \u001b[0mparams\u001b[0m\u001b[1;33m=\u001b[0m\u001b[0mparams\u001b[0m\u001b[1;33m)\u001b[0m\u001b[1;33m\u001b[0m\u001b[0m\n\u001b[0m\u001b[0;32m     85\u001b[0m         \u001b[1;32melif\u001b[0m \u001b[0mself\u001b[0m\u001b[1;33m.\u001b[0m\u001b[0m_format\u001b[0m \u001b[1;33m==\u001b[0m \u001b[1;34m'json'\u001b[0m\u001b[1;33m:\u001b[0m\u001b[1;33m\u001b[0m\u001b[0m\n\u001b[0;32m     86\u001b[0m             \u001b[0mout\u001b[0m \u001b[1;33m=\u001b[0m \u001b[0mself\u001b[0m\u001b[1;33m.\u001b[0m\u001b[0m_get_response\u001b[0m\u001b[1;33m(\u001b[0m\u001b[0murl\u001b[0m\u001b[1;33m,\u001b[0m \u001b[0mparams\u001b[0m\u001b[1;33m=\u001b[0m\u001b[0mparams\u001b[0m\u001b[1;33m)\u001b[0m\u001b[1;33m.\u001b[0m\u001b[0mjson\u001b[0m\u001b[1;33m(\u001b[0m\u001b[1;33m)\u001b[0m\u001b[1;33m\u001b[0m\u001b[0m\n",
      "\u001b[1;32md:\\Anaconda3\\envs\\py3\\lib\\site-packages\\pandas_datareader\\base.py\u001b[0m in \u001b[0;36m_read_url_as_StringIO\u001b[1;34m(self, url, params)\u001b[0m\n\u001b[0;32m     93\u001b[0m         \u001b[0mOpen\u001b[0m \u001b[0murl\u001b[0m \u001b[1;33m(\u001b[0m\u001b[1;32mand\u001b[0m \u001b[0mretry\u001b[0m\u001b[1;33m)\u001b[0m\u001b[1;33m\u001b[0m\u001b[0m\n\u001b[0;32m     94\u001b[0m         \"\"\"\n\u001b[1;32m---> 95\u001b[1;33m         \u001b[0mresponse\u001b[0m \u001b[1;33m=\u001b[0m \u001b[0mself\u001b[0m\u001b[1;33m.\u001b[0m\u001b[0m_get_response\u001b[0m\u001b[1;33m(\u001b[0m\u001b[0murl\u001b[0m\u001b[1;33m,\u001b[0m \u001b[0mparams\u001b[0m\u001b[1;33m=\u001b[0m\u001b[0mparams\u001b[0m\u001b[1;33m)\u001b[0m\u001b[1;33m\u001b[0m\u001b[0m\n\u001b[0m\u001b[0;32m     96\u001b[0m         \u001b[0mtext\u001b[0m \u001b[1;33m=\u001b[0m \u001b[0mself\u001b[0m\u001b[1;33m.\u001b[0m\u001b[0m_sanitize_response\u001b[0m\u001b[1;33m(\u001b[0m\u001b[0mresponse\u001b[0m\u001b[1;33m)\u001b[0m\u001b[1;33m\u001b[0m\u001b[0m\n\u001b[0;32m     97\u001b[0m         \u001b[0mout\u001b[0m \u001b[1;33m=\u001b[0m \u001b[0mStringIO\u001b[0m\u001b[1;33m(\u001b[0m\u001b[1;33m)\u001b[0m\u001b[1;33m\u001b[0m\u001b[0m\n",
      "\u001b[1;32md:\\Anaconda3\\envs\\py3\\lib\\site-packages\\pandas_datareader\\base.py\u001b[0m in \u001b[0;36m_get_response\u001b[1;34m(self, url, params, headers)\u001b[0m\n\u001b[0;32m    153\u001b[0m             \u001b[0mmsg\u001b[0m \u001b[1;33m+=\u001b[0m \u001b[1;34m'\\nResponse Text:\\n{0}'\u001b[0m\u001b[1;33m.\u001b[0m\u001b[0mformat\u001b[0m\u001b[1;33m(\u001b[0m\u001b[0mlast_response_text\u001b[0m\u001b[1;33m)\u001b[0m\u001b[1;33m\u001b[0m\u001b[0m\n\u001b[0;32m    154\u001b[0m \u001b[1;33m\u001b[0m\u001b[0m\n\u001b[1;32m--> 155\u001b[1;33m         \u001b[1;32mraise\u001b[0m \u001b[0mRemoteDataError\u001b[0m\u001b[1;33m(\u001b[0m\u001b[0mmsg\u001b[0m\u001b[1;33m)\u001b[0m\u001b[1;33m\u001b[0m\u001b[0m\n\u001b[0m\u001b[0;32m    156\u001b[0m \u001b[1;33m\u001b[0m\u001b[0m\n\u001b[0;32m    157\u001b[0m     \u001b[1;32mdef\u001b[0m \u001b[0m_get_crumb\u001b[0m\u001b[1;33m(\u001b[0m\u001b[0mself\u001b[0m\u001b[1;33m,\u001b[0m \u001b[1;33m*\u001b[0m\u001b[0margs\u001b[0m\u001b[1;33m)\u001b[0m\u001b[1;33m:\u001b[0m\u001b[1;33m\u001b[0m\u001b[0m\n",
      "\u001b[1;31mRemoteDataError\u001b[0m: Unable to read URL: https://finance.google.com/finance/historical?q=MSFT&startdate=Jan+01%2C+2017&enddate=Dec+31%2C+2017&output=csv\nResponse Text:\nb'<html><head><meta http-equiv=\"content-type\" content=\"text/html; charset=utf-8\"/><title>Sorry...</title><style> body { font-family: verdana, arial, sans-serif; background-color: #fff; color: #000; }</style></head><body><div><table><tr><td><b><font face=sans-serif size=10><font color=#4285f4>G</font><font color=#ea4335>o</font><font color=#fbbc05>o</font><font color=#4285f4>g</font><font color=#34a853>l</font><font color=#ea4335>e</font></font></b></td><td style=\"text-align: left; vertical-align: bottom; padding-bottom: 15px; width: 50%\"><div style=\"border-bottom: 1px solid #dfdfdf;\">Sorry...</div></td></tr></table></div><div style=\"margin-left: 4em;\"><h1>We\\'re sorry...</h1><p>... but your computer or network may be sending automated queries. To protect our users, we can\\'t process your request right now.</p></div><div style=\"margin-left: 4em;\">See <a href=\"https://support.google.com/websearch/answer/86640\">Google Help</a> for more information.<br/><br/></div><div style=\"text-align: center; border-top: 1px solid #dfdfdf;\"><a href=\"https://www.google.com\">Google Home</a></div></body></html>'"
     ]
    }
   ],
   "source": [
    "company = \"MSFT\"\n",
    "start = \"2017-01-01\"\n",
    "end = \"2017-12-31\"\n",
    "data.DataReader(name=company, data_source=\"google\", start=start, end=end)"
   ]
  },
  {
   "cell_type": "code",
   "execution_count": 11,
   "metadata": {
    "collapsed": false
   },
   "outputs": [
    {
     "data": {
      "text/html": [
       "<div>\n",
       "<style scoped>\n",
       "    .dataframe tbody tr th:only-of-type {\n",
       "        vertical-align: middle;\n",
       "    }\n",
       "\n",
       "    .dataframe tbody tr th {\n",
       "        vertical-align: top;\n",
       "    }\n",
       "\n",
       "    .dataframe thead th {\n",
       "        text-align: right;\n",
       "    }\n",
       "</style>\n",
       "<table border=\"1\" class=\"dataframe\">\n",
       "  <thead>\n",
       "    <tr style=\"text-align: right;\">\n",
       "      <th></th>\n",
       "      <th>Open</th>\n",
       "      <th>High</th>\n",
       "      <th>Low</th>\n",
       "      <th>Close</th>\n",
       "      <th>Volume</th>\n",
       "    </tr>\n",
       "    <tr>\n",
       "      <th>Date</th>\n",
       "      <th></th>\n",
       "      <th></th>\n",
       "      <th></th>\n",
       "      <th></th>\n",
       "      <th></th>\n",
       "    </tr>\n",
       "  </thead>\n",
       "  <tbody>\n",
       "    <tr>\n",
       "      <th>2018-04-18</th>\n",
       "      <td>96.2200</td>\n",
       "      <td>96.72</td>\n",
       "      <td>95.52</td>\n",
       "      <td>96.44</td>\n",
       "      <td>21043287</td>\n",
       "    </tr>\n",
       "    <tr>\n",
       "      <th>2018-04-19</th>\n",
       "      <td>96.4400</td>\n",
       "      <td>97.07</td>\n",
       "      <td>95.34</td>\n",
       "      <td>96.11</td>\n",
       "      <td>23552541</td>\n",
       "    </tr>\n",
       "    <tr>\n",
       "      <th>2018-04-20</th>\n",
       "      <td>95.9100</td>\n",
       "      <td>96.11</td>\n",
       "      <td>94.05</td>\n",
       "      <td>95.00</td>\n",
       "      <td>31154377</td>\n",
       "    </tr>\n",
       "    <tr>\n",
       "      <th>2018-04-23</th>\n",
       "      <td>95.7436</td>\n",
       "      <td>96.29</td>\n",
       "      <td>94.63</td>\n",
       "      <td>95.35</td>\n",
       "      <td>22331829</td>\n",
       "    </tr>\n",
       "    <tr>\n",
       "      <th>2018-04-24</th>\n",
       "      <td>96.2420</td>\n",
       "      <td>96.47</td>\n",
       "      <td>92.41</td>\n",
       "      <td>93.12</td>\n",
       "      <td>34524799</td>\n",
       "    </tr>\n",
       "  </tbody>\n",
       "</table>\n",
       "</div>"
      ],
      "text/plain": [
       "               Open   High    Low  Close    Volume\n",
       "Date                                              \n",
       "2018-04-18  96.2200  96.72  95.52  96.44  21043287\n",
       "2018-04-19  96.4400  97.07  95.34  96.11  23552541\n",
       "2018-04-20  95.9100  96.11  94.05  95.00  31154377\n",
       "2018-04-23  95.7436  96.29  94.63  95.35  22331829\n",
       "2018-04-24  96.2420  96.47  92.41  93.12  34524799"
      ]
     },
     "execution_count": 11,
     "metadata": {},
     "output_type": "execute_result"
    }
   ],
   "source": [
    "company = \"MSFT\"\n",
    "start   = \"2010-01-01\"\n",
    "end     = \"2018-12-31\"\n",
    "stocks = data.DataReader(name=company, data_source=\"morningstar\", start=start, end=end)\n",
    "stocks.index = stocks.index.droplevel(0)\n",
    "stocks = stocks[[\"Open\",\"High\",\"Low\",\"Close\",\"Volume\"]]\n",
    "stocks.tail()"
   ]
  },
  {
   "cell_type": "code",
   "execution_count": 12,
   "metadata": {
    "collapsed": false
   },
   "outputs": [
    {
     "data": {
      "text/plain": [
       "Timestamp('2010-01-01 00:00:00')"
      ]
     },
     "execution_count": 12,
     "metadata": {},
     "output_type": "execute_result"
    }
   ],
   "source": [
    "stocks.values\n",
    "stocks.index[0]"
   ]
  },
  {
   "cell_type": "code",
   "execution_count": 13,
   "metadata": {
    "collapsed": false
   },
   "outputs": [
    {
     "data": {
      "text/plain": [
       "Open            38.25\n",
       "High            38.48\n",
       "Low             38.07\n",
       "Close           38.41\n",
       "Volume    26868337.00\n",
       "Name: 2014-03-04 00:00:00, dtype: float64"
      ]
     },
     "execution_count": 13,
     "metadata": {},
     "output_type": "execute_result"
    }
   ],
   "source": [
    "stocks.loc[\"2014-03-04\"]"
   ]
  },
  {
   "cell_type": "code",
   "execution_count": 14,
   "metadata": {
    "collapsed": false
   },
   "outputs": [
    {
     "data": {
      "text/html": [
       "<div>\n",
       "<style scoped>\n",
       "    .dataframe tbody tr th:only-of-type {\n",
       "        vertical-align: middle;\n",
       "    }\n",
       "\n",
       "    .dataframe tbody tr th {\n",
       "        vertical-align: top;\n",
       "    }\n",
       "\n",
       "    .dataframe thead th {\n",
       "        text-align: right;\n",
       "    }\n",
       "</style>\n",
       "<table border=\"1\" class=\"dataframe\">\n",
       "  <thead>\n",
       "    <tr style=\"text-align: right;\">\n",
       "      <th></th>\n",
       "      <th>Open</th>\n",
       "      <th>High</th>\n",
       "      <th>Low</th>\n",
       "      <th>Close</th>\n",
       "      <th>Volume</th>\n",
       "    </tr>\n",
       "    <tr>\n",
       "      <th>Date</th>\n",
       "      <th></th>\n",
       "      <th></th>\n",
       "      <th></th>\n",
       "      <th></th>\n",
       "      <th></th>\n",
       "    </tr>\n",
       "  </thead>\n",
       "  <tbody>\n",
       "    <tr>\n",
       "      <th>2014-03-04</th>\n",
       "      <td>38.25</td>\n",
       "      <td>38.4800</td>\n",
       "      <td>38.07</td>\n",
       "      <td>38.41</td>\n",
       "      <td>26868337</td>\n",
       "    </tr>\n",
       "    <tr>\n",
       "      <th>2014-03-05</th>\n",
       "      <td>38.26</td>\n",
       "      <td>38.2699</td>\n",
       "      <td>37.93</td>\n",
       "      <td>38.11</td>\n",
       "      <td>20520432</td>\n",
       "    </tr>\n",
       "    <tr>\n",
       "      <th>2014-03-06</th>\n",
       "      <td>38.11</td>\n",
       "      <td>38.2400</td>\n",
       "      <td>37.89</td>\n",
       "      <td>38.15</td>\n",
       "      <td>23605310</td>\n",
       "    </tr>\n",
       "    <tr>\n",
       "      <th>2014-03-07</th>\n",
       "      <td>38.36</td>\n",
       "      <td>38.3600</td>\n",
       "      <td>37.69</td>\n",
       "      <td>37.90</td>\n",
       "      <td>26596635</td>\n",
       "    </tr>\n",
       "    <tr>\n",
       "      <th>2014-03-10</th>\n",
       "      <td>37.97</td>\n",
       "      <td>38.0100</td>\n",
       "      <td>37.72</td>\n",
       "      <td>37.82</td>\n",
       "      <td>19007850</td>\n",
       "    </tr>\n",
       "    <tr>\n",
       "      <th>2014-03-11</th>\n",
       "      <td>37.83</td>\n",
       "      <td>38.2300</td>\n",
       "      <td>37.72</td>\n",
       "      <td>38.02</td>\n",
       "      <td>25218133</td>\n",
       "    </tr>\n",
       "  </tbody>\n",
       "</table>\n",
       "</div>"
      ],
      "text/plain": [
       "             Open     High    Low  Close    Volume\n",
       "Date                                              \n",
       "2014-03-04  38.25  38.4800  38.07  38.41  26868337\n",
       "2014-03-05  38.26  38.2699  37.93  38.11  20520432\n",
       "2014-03-06  38.11  38.2400  37.89  38.15  23605310\n",
       "2014-03-07  38.36  38.3600  37.69  37.90  26596635\n",
       "2014-03-10  37.97  38.0100  37.72  37.82  19007850\n",
       "2014-03-11  37.83  38.2300  37.72  38.02  25218133"
      ]
     },
     "execution_count": 14,
     "metadata": {},
     "output_type": "execute_result"
    }
   ],
   "source": [
    "stocks.loc[\"2014-03-04\" : \"2014-03-11\"]"
   ]
  },
  {
   "cell_type": "code",
   "execution_count": 15,
   "metadata": {
    "collapsed": false
   },
   "outputs": [],
   "source": [
    "bd = pd.date_range(start=\"1982-09-02\", end=\"2018-12-31\", freq = pd.DateOffset(years=1))"
   ]
  },
  {
   "cell_type": "code",
   "execution_count": 16,
   "metadata": {
    "collapsed": false
   },
   "outputs": [
    {
     "data": {
      "text/html": [
       "<div>\n",
       "<style scoped>\n",
       "    .dataframe tbody tr th:only-of-type {\n",
       "        vertical-align: middle;\n",
       "    }\n",
       "\n",
       "    .dataframe tbody tr th {\n",
       "        vertical-align: top;\n",
       "    }\n",
       "\n",
       "    .dataframe thead th {\n",
       "        text-align: right;\n",
       "    }\n",
       "</style>\n",
       "<table border=\"1\" class=\"dataframe\">\n",
       "  <thead>\n",
       "    <tr style=\"text-align: right;\">\n",
       "      <th></th>\n",
       "      <th>Open</th>\n",
       "      <th>High</th>\n",
       "      <th>Low</th>\n",
       "      <th>Close</th>\n",
       "      <th>Volume</th>\n",
       "    </tr>\n",
       "    <tr>\n",
       "      <th>Date</th>\n",
       "      <th></th>\n",
       "      <th></th>\n",
       "      <th></th>\n",
       "      <th></th>\n",
       "      <th></th>\n",
       "    </tr>\n",
       "  </thead>\n",
       "  <tbody>\n",
       "    <tr>\n",
       "      <th>2010-09-02</th>\n",
       "      <td>23.86</td>\n",
       "      <td>23.9499</td>\n",
       "      <td>23.71</td>\n",
       "      <td>23.94</td>\n",
       "      <td>48837044</td>\n",
       "    </tr>\n",
       "    <tr>\n",
       "      <th>2011-09-02</th>\n",
       "      <td>25.78</td>\n",
       "      <td>26.0000</td>\n",
       "      <td>25.66</td>\n",
       "      <td>25.80</td>\n",
       "      <td>43897065</td>\n",
       "    </tr>\n",
       "    <tr>\n",
       "      <th>2013-09-02</th>\n",
       "      <td>33.40</td>\n",
       "      <td>33.4000</td>\n",
       "      <td>33.40</td>\n",
       "      <td>33.40</td>\n",
       "      <td>0</td>\n",
       "    </tr>\n",
       "    <tr>\n",
       "      <th>2014-09-02</th>\n",
       "      <td>45.43</td>\n",
       "      <td>45.4600</td>\n",
       "      <td>44.85</td>\n",
       "      <td>45.09</td>\n",
       "      <td>22976775</td>\n",
       "    </tr>\n",
       "    <tr>\n",
       "      <th>2015-09-02</th>\n",
       "      <td>42.36</td>\n",
       "      <td>43.3800</td>\n",
       "      <td>41.88</td>\n",
       "      <td>43.36</td>\n",
       "      <td>37671518</td>\n",
       "    </tr>\n",
       "    <tr>\n",
       "      <th>2016-09-02</th>\n",
       "      <td>57.67</td>\n",
       "      <td>58.1900</td>\n",
       "      <td>57.42</td>\n",
       "      <td>57.67</td>\n",
       "      <td>18900489</td>\n",
       "    </tr>\n",
       "  </tbody>\n",
       "</table>\n",
       "</div>"
      ],
      "text/plain": [
       "             Open     High    Low  Close    Volume\n",
       "Date                                              \n",
       "2010-09-02  23.86  23.9499  23.71  23.94  48837044\n",
       "2011-09-02  25.78  26.0000  25.66  25.80  43897065\n",
       "2013-09-02  33.40  33.4000  33.40  33.40         0\n",
       "2014-09-02  45.43  45.4600  44.85  45.09  22976775\n",
       "2015-09-02  42.36  43.3800  41.88  43.36  37671518\n",
       "2016-09-02  57.67  58.1900  57.42  57.67  18900489"
      ]
     },
     "execution_count": 16,
     "metadata": {},
     "output_type": "execute_result"
    }
   ],
   "source": [
    "stocks[stocks.index.isin(bd)]"
   ]
  },
  {
   "cell_type": "markdown",
   "metadata": {
    "collapsed": true
   },
   "source": [
    "### `Timestamp` object attributes"
   ]
  },
  {
   "cell_type": "code",
   "execution_count": 17,
   "metadata": {
    "collapsed": true
   },
   "outputs": [],
   "source": [
    "someday = stocks.index[500]"
   ]
  },
  {
   "cell_type": "code",
   "execution_count": 19,
   "metadata": {
    "collapsed": false
   },
   "outputs": [
    {
     "data": {
      "text/plain": [
       "'Friday'"
      ]
     },
     "execution_count": 19,
     "metadata": {},
     "output_type": "execute_result"
    }
   ],
   "source": [
    "someday.day\n",
    "someday.weekday_name"
   ]
  },
  {
   "cell_type": "code",
   "execution_count": 20,
   "metadata": {
    "collapsed": true
   },
   "outputs": [],
   "source": [
    "stocks.insert(0, \"Day of Week\", stocks.index.weekday_name)"
   ]
  },
  {
   "cell_type": "code",
   "execution_count": 21,
   "metadata": {
    "collapsed": false
   },
   "outputs": [
    {
     "data": {
      "text/html": [
       "<div>\n",
       "<style scoped>\n",
       "    .dataframe tbody tr th:only-of-type {\n",
       "        vertical-align: middle;\n",
       "    }\n",
       "\n",
       "    .dataframe tbody tr th {\n",
       "        vertical-align: top;\n",
       "    }\n",
       "\n",
       "    .dataframe thead th {\n",
       "        text-align: right;\n",
       "    }\n",
       "</style>\n",
       "<table border=\"1\" class=\"dataframe\">\n",
       "  <thead>\n",
       "    <tr style=\"text-align: right;\">\n",
       "      <th></th>\n",
       "      <th>Day of Week</th>\n",
       "      <th>Open</th>\n",
       "      <th>High</th>\n",
       "      <th>Low</th>\n",
       "      <th>Close</th>\n",
       "      <th>Volume</th>\n",
       "    </tr>\n",
       "    <tr>\n",
       "      <th>Date</th>\n",
       "      <th></th>\n",
       "      <th></th>\n",
       "      <th></th>\n",
       "      <th></th>\n",
       "      <th></th>\n",
       "      <th></th>\n",
       "    </tr>\n",
       "  </thead>\n",
       "  <tbody>\n",
       "    <tr>\n",
       "      <th>2010-01-01</th>\n",
       "      <td>Friday</td>\n",
       "      <td>30.98</td>\n",
       "      <td>30.99</td>\n",
       "      <td>30.48</td>\n",
       "      <td>30.480</td>\n",
       "      <td>0</td>\n",
       "    </tr>\n",
       "    <tr>\n",
       "      <th>2010-01-04</th>\n",
       "      <td>Monday</td>\n",
       "      <td>30.65</td>\n",
       "      <td>31.10</td>\n",
       "      <td>30.59</td>\n",
       "      <td>30.950</td>\n",
       "      <td>38414185</td>\n",
       "    </tr>\n",
       "    <tr>\n",
       "      <th>2010-01-05</th>\n",
       "      <td>Tuesday</td>\n",
       "      <td>30.87</td>\n",
       "      <td>31.10</td>\n",
       "      <td>30.64</td>\n",
       "      <td>30.960</td>\n",
       "      <td>49758862</td>\n",
       "    </tr>\n",
       "    <tr>\n",
       "      <th>2010-01-06</th>\n",
       "      <td>Wednesday</td>\n",
       "      <td>30.88</td>\n",
       "      <td>31.08</td>\n",
       "      <td>30.52</td>\n",
       "      <td>30.770</td>\n",
       "      <td>58182332</td>\n",
       "    </tr>\n",
       "    <tr>\n",
       "      <th>2010-01-07</th>\n",
       "      <td>Thursday</td>\n",
       "      <td>30.61</td>\n",
       "      <td>30.70</td>\n",
       "      <td>30.19</td>\n",
       "      <td>30.452</td>\n",
       "      <td>50564285</td>\n",
       "    </tr>\n",
       "  </tbody>\n",
       "</table>\n",
       "</div>"
      ],
      "text/plain": [
       "           Day of Week   Open   High    Low   Close    Volume\n",
       "Date                                                         \n",
       "2010-01-01      Friday  30.98  30.99  30.48  30.480         0\n",
       "2010-01-04      Monday  30.65  31.10  30.59  30.950  38414185\n",
       "2010-01-05     Tuesday  30.87  31.10  30.64  30.960  49758862\n",
       "2010-01-06   Wednesday  30.88  31.08  30.52  30.770  58182332\n",
       "2010-01-07    Thursday  30.61  30.70  30.19  30.452  50564285"
      ]
     },
     "execution_count": 21,
     "metadata": {},
     "output_type": "execute_result"
    }
   ],
   "source": [
    "stocks.head()"
   ]
  },
  {
   "cell_type": "markdown",
   "metadata": {},
   "source": [
    "### `.truncate()` method"
   ]
  },
  {
   "cell_type": "code",
   "execution_count": 22,
   "metadata": {
    "collapsed": true
   },
   "outputs": [
    {
     "data": {
      "text/html": [
       "<div>\n",
       "<style scoped>\n",
       "    .dataframe tbody tr th:only-of-type {\n",
       "        vertical-align: middle;\n",
       "    }\n",
       "\n",
       "    .dataframe tbody tr th {\n",
       "        vertical-align: top;\n",
       "    }\n",
       "\n",
       "    .dataframe thead th {\n",
       "        text-align: right;\n",
       "    }\n",
       "</style>\n",
       "<table border=\"1\" class=\"dataframe\">\n",
       "  <thead>\n",
       "    <tr style=\"text-align: right;\">\n",
       "      <th></th>\n",
       "      <th>Day of Week</th>\n",
       "      <th>Open</th>\n",
       "      <th>High</th>\n",
       "      <th>Low</th>\n",
       "      <th>Close</th>\n",
       "      <th>Volume</th>\n",
       "    </tr>\n",
       "    <tr>\n",
       "      <th>Date</th>\n",
       "      <th></th>\n",
       "      <th></th>\n",
       "      <th></th>\n",
       "      <th></th>\n",
       "      <th></th>\n",
       "      <th></th>\n",
       "    </tr>\n",
       "  </thead>\n",
       "  <tbody>\n",
       "    <tr>\n",
       "      <th>2011-02-07</th>\n",
       "      <td>Monday</td>\n",
       "      <td>27.83</td>\n",
       "      <td>28.3400</td>\n",
       "      <td>27.7900</td>\n",
       "      <td>28.1975</td>\n",
       "      <td>68980871</td>\n",
       "    </tr>\n",
       "    <tr>\n",
       "      <th>2011-02-08</th>\n",
       "      <td>Tuesday</td>\n",
       "      <td>28.10</td>\n",
       "      <td>28.3400</td>\n",
       "      <td>28.0500</td>\n",
       "      <td>28.2825</td>\n",
       "      <td>34910467</td>\n",
       "    </tr>\n",
       "    <tr>\n",
       "      <th>2011-02-09</th>\n",
       "      <td>Wednesday</td>\n",
       "      <td>28.18</td>\n",
       "      <td>28.2600</td>\n",
       "      <td>27.9100</td>\n",
       "      <td>27.9700</td>\n",
       "      <td>52905018</td>\n",
       "    </tr>\n",
       "    <tr>\n",
       "      <th>2011-02-10</th>\n",
       "      <td>Thursday</td>\n",
       "      <td>27.94</td>\n",
       "      <td>27.9400</td>\n",
       "      <td>27.2900</td>\n",
       "      <td>27.5000</td>\n",
       "      <td>76672349</td>\n",
       "    </tr>\n",
       "    <tr>\n",
       "      <th>2011-02-11</th>\n",
       "      <td>Friday</td>\n",
       "      <td>27.75</td>\n",
       "      <td>27.8099</td>\n",
       "      <td>27.0700</td>\n",
       "      <td>27.2500</td>\n",
       "      <td>83939643</td>\n",
       "    </tr>\n",
       "    <tr>\n",
       "      <th>2011-02-14</th>\n",
       "      <td>Monday</td>\n",
       "      <td>27.20</td>\n",
       "      <td>27.2700</td>\n",
       "      <td>26.9500</td>\n",
       "      <td>27.2300</td>\n",
       "      <td>56766112</td>\n",
       "    </tr>\n",
       "    <tr>\n",
       "      <th>2011-02-15</th>\n",
       "      <td>Tuesday</td>\n",
       "      <td>27.04</td>\n",
       "      <td>27.3300</td>\n",
       "      <td>26.9500</td>\n",
       "      <td>26.9600</td>\n",
       "      <td>44120592</td>\n",
       "    </tr>\n",
       "    <tr>\n",
       "      <th>2011-02-16</th>\n",
       "      <td>Wednesday</td>\n",
       "      <td>27.03</td>\n",
       "      <td>27.0700</td>\n",
       "      <td>26.6000</td>\n",
       "      <td>27.0200</td>\n",
       "      <td>70817867</td>\n",
       "    </tr>\n",
       "    <tr>\n",
       "      <th>2011-02-17</th>\n",
       "      <td>Thursday</td>\n",
       "      <td>26.96</td>\n",
       "      <td>27.3700</td>\n",
       "      <td>26.9100</td>\n",
       "      <td>27.2100</td>\n",
       "      <td>57211558</td>\n",
       "    </tr>\n",
       "    <tr>\n",
       "      <th>2011-02-18</th>\n",
       "      <td>Friday</td>\n",
       "      <td>27.18</td>\n",
       "      <td>27.2100</td>\n",
       "      <td>26.9900</td>\n",
       "      <td>27.0600</td>\n",
       "      <td>68672855</td>\n",
       "    </tr>\n",
       "    <tr>\n",
       "      <th>2011-02-21</th>\n",
       "      <td>Monday</td>\n",
       "      <td>27.18</td>\n",
       "      <td>27.2100</td>\n",
       "      <td>26.9900</td>\n",
       "      <td>27.0600</td>\n",
       "      <td>0</td>\n",
       "    </tr>\n",
       "    <tr>\n",
       "      <th>2011-02-22</th>\n",
       "      <td>Tuesday</td>\n",
       "      <td>26.73</td>\n",
       "      <td>27.1000</td>\n",
       "      <td>26.5200</td>\n",
       "      <td>26.5900</td>\n",
       "      <td>60888998</td>\n",
       "    </tr>\n",
       "    <tr>\n",
       "      <th>2011-02-23</th>\n",
       "      <td>Wednesday</td>\n",
       "      <td>26.55</td>\n",
       "      <td>26.8600</td>\n",
       "      <td>26.4300</td>\n",
       "      <td>26.5900</td>\n",
       "      <td>60234083</td>\n",
       "    </tr>\n",
       "    <tr>\n",
       "      <th>2011-02-24</th>\n",
       "      <td>Thursday</td>\n",
       "      <td>26.67</td>\n",
       "      <td>27.0600</td>\n",
       "      <td>26.5000</td>\n",
       "      <td>26.7700</td>\n",
       "      <td>64499005</td>\n",
       "    </tr>\n",
       "    <tr>\n",
       "      <th>2011-02-25</th>\n",
       "      <td>Friday</td>\n",
       "      <td>26.88</td>\n",
       "      <td>26.9500</td>\n",
       "      <td>26.5000</td>\n",
       "      <td>26.5500</td>\n",
       "      <td>53006263</td>\n",
       "    </tr>\n",
       "    <tr>\n",
       "      <th>2011-02-28</th>\n",
       "      <td>Monday</td>\n",
       "      <td>26.64</td>\n",
       "      <td>26.8600</td>\n",
       "      <td>26.5100</td>\n",
       "      <td>26.5800</td>\n",
       "      <td>51379675</td>\n",
       "    </tr>\n",
       "    <tr>\n",
       "      <th>2011-03-01</th>\n",
       "      <td>Tuesday</td>\n",
       "      <td>26.60</td>\n",
       "      <td>26.7800</td>\n",
       "      <td>26.1500</td>\n",
       "      <td>26.1600</td>\n",
       "      <td>60054986</td>\n",
       "    </tr>\n",
       "    <tr>\n",
       "      <th>2011-03-02</th>\n",
       "      <td>Wednesday</td>\n",
       "      <td>26.10</td>\n",
       "      <td>26.3700</td>\n",
       "      <td>26.0400</td>\n",
       "      <td>26.0775</td>\n",
       "      <td>48658193</td>\n",
       "    </tr>\n",
       "    <tr>\n",
       "      <th>2011-03-03</th>\n",
       "      <td>Thursday</td>\n",
       "      <td>26.25</td>\n",
       "      <td>26.4000</td>\n",
       "      <td>26.1800</td>\n",
       "      <td>26.2000</td>\n",
       "      <td>68271500</td>\n",
       "    </tr>\n",
       "    <tr>\n",
       "      <th>2011-03-04</th>\n",
       "      <td>Friday</td>\n",
       "      <td>26.21</td>\n",
       "      <td>26.2400</td>\n",
       "      <td>25.8000</td>\n",
       "      <td>25.9525</td>\n",
       "      <td>70437154</td>\n",
       "    </tr>\n",
       "    <tr>\n",
       "      <th>2011-03-07</th>\n",
       "      <td>Monday</td>\n",
       "      <td>26.13</td>\n",
       "      <td>26.2700</td>\n",
       "      <td>25.5500</td>\n",
       "      <td>25.7200</td>\n",
       "      <td>64987131</td>\n",
       "    </tr>\n",
       "    <tr>\n",
       "      <th>2011-03-08</th>\n",
       "      <td>Tuesday</td>\n",
       "      <td>25.78</td>\n",
       "      <td>26.0200</td>\n",
       "      <td>25.6500</td>\n",
       "      <td>25.9100</td>\n",
       "      <td>50555383</td>\n",
       "    </tr>\n",
       "    <tr>\n",
       "      <th>2011-03-09</th>\n",
       "      <td>Wednesday</td>\n",
       "      <td>25.80</td>\n",
       "      <td>25.9800</td>\n",
       "      <td>25.6600</td>\n",
       "      <td>25.8900</td>\n",
       "      <td>39792379</td>\n",
       "    </tr>\n",
       "    <tr>\n",
       "      <th>2011-03-10</th>\n",
       "      <td>Thursday</td>\n",
       "      <td>25.67</td>\n",
       "      <td>25.7100</td>\n",
       "      <td>25.3500</td>\n",
       "      <td>25.4100</td>\n",
       "      <td>66557502</td>\n",
       "    </tr>\n",
       "    <tr>\n",
       "      <th>2011-03-11</th>\n",
       "      <td>Friday</td>\n",
       "      <td>25.41</td>\n",
       "      <td>25.8500</td>\n",
       "      <td>25.3600</td>\n",
       "      <td>25.6800</td>\n",
       "      <td>49906849</td>\n",
       "    </tr>\n",
       "    <tr>\n",
       "      <th>2011-03-14</th>\n",
       "      <td>Monday</td>\n",
       "      <td>25.47</td>\n",
       "      <td>25.7600</td>\n",
       "      <td>25.3500</td>\n",
       "      <td>25.6900</td>\n",
       "      <td>54456558</td>\n",
       "    </tr>\n",
       "    <tr>\n",
       "      <th>2011-03-15</th>\n",
       "      <td>Tuesday</td>\n",
       "      <td>25.10</td>\n",
       "      <td>25.4700</td>\n",
       "      <td>25.0000</td>\n",
       "      <td>25.3900</td>\n",
       "      <td>76064201</td>\n",
       "    </tr>\n",
       "    <tr>\n",
       "      <th>2011-03-16</th>\n",
       "      <td>Wednesday</td>\n",
       "      <td>25.23</td>\n",
       "      <td>25.2800</td>\n",
       "      <td>24.6800</td>\n",
       "      <td>24.7900</td>\n",
       "      <td>100718988</td>\n",
       "    </tr>\n",
       "    <tr>\n",
       "      <th>2011-03-17</th>\n",
       "      <td>Thursday</td>\n",
       "      <td>25.06</td>\n",
       "      <td>25.2200</td>\n",
       "      <td>24.7500</td>\n",
       "      <td>24.7800</td>\n",
       "      <td>62506557</td>\n",
       "    </tr>\n",
       "    <tr>\n",
       "      <th>2011-03-18</th>\n",
       "      <td>Friday</td>\n",
       "      <td>25.04</td>\n",
       "      <td>25.1800</td>\n",
       "      <td>24.7979</td>\n",
       "      <td>24.8000</td>\n",
       "      <td>85486688</td>\n",
       "    </tr>\n",
       "    <tr>\n",
       "      <th>...</th>\n",
       "      <td>...</td>\n",
       "      <td>...</td>\n",
       "      <td>...</td>\n",
       "      <td>...</td>\n",
       "      <td>...</td>\n",
       "      <td>...</td>\n",
       "    </tr>\n",
       "    <tr>\n",
       "      <th>2012-01-03</th>\n",
       "      <td>Tuesday</td>\n",
       "      <td>26.50</td>\n",
       "      <td>26.9600</td>\n",
       "      <td>26.3900</td>\n",
       "      <td>26.7650</td>\n",
       "      <td>64735391</td>\n",
       "    </tr>\n",
       "    <tr>\n",
       "      <th>2012-01-04</th>\n",
       "      <td>Wednesday</td>\n",
       "      <td>26.82</td>\n",
       "      <td>27.4700</td>\n",
       "      <td>26.7800</td>\n",
       "      <td>27.4000</td>\n",
       "      <td>80519402</td>\n",
       "    </tr>\n",
       "    <tr>\n",
       "      <th>2012-01-05</th>\n",
       "      <td>Thursday</td>\n",
       "      <td>27.40</td>\n",
       "      <td>27.7280</td>\n",
       "      <td>27.2900</td>\n",
       "      <td>27.6800</td>\n",
       "      <td>56082205</td>\n",
       "    </tr>\n",
       "    <tr>\n",
       "      <th>2012-01-06</th>\n",
       "      <td>Friday</td>\n",
       "      <td>27.53</td>\n",
       "      <td>28.1900</td>\n",
       "      <td>27.5250</td>\n",
       "      <td>28.1050</td>\n",
       "      <td>99459469</td>\n",
       "    </tr>\n",
       "    <tr>\n",
       "      <th>2012-01-09</th>\n",
       "      <td>Monday</td>\n",
       "      <td>28.03</td>\n",
       "      <td>28.1000</td>\n",
       "      <td>27.7200</td>\n",
       "      <td>27.7400</td>\n",
       "      <td>59708266</td>\n",
       "    </tr>\n",
       "    <tr>\n",
       "      <th>2012-01-10</th>\n",
       "      <td>Tuesday</td>\n",
       "      <td>27.90</td>\n",
       "      <td>28.1500</td>\n",
       "      <td>27.7500</td>\n",
       "      <td>27.8400</td>\n",
       "      <td>60014333</td>\n",
       "    </tr>\n",
       "    <tr>\n",
       "      <th>2012-01-11</th>\n",
       "      <td>Wednesday</td>\n",
       "      <td>27.45</td>\n",
       "      <td>27.9800</td>\n",
       "      <td>27.3700</td>\n",
       "      <td>27.7200</td>\n",
       "      <td>65586477</td>\n",
       "    </tr>\n",
       "    <tr>\n",
       "      <th>2012-01-12</th>\n",
       "      <td>Thursday</td>\n",
       "      <td>27.87</td>\n",
       "      <td>28.0200</td>\n",
       "      <td>27.6450</td>\n",
       "      <td>28.0000</td>\n",
       "      <td>49375477</td>\n",
       "    </tr>\n",
       "    <tr>\n",
       "      <th>2012-01-13</th>\n",
       "      <td>Friday</td>\n",
       "      <td>27.92</td>\n",
       "      <td>28.2500</td>\n",
       "      <td>27.7900</td>\n",
       "      <td>28.2500</td>\n",
       "      <td>60204902</td>\n",
       "    </tr>\n",
       "    <tr>\n",
       "      <th>2012-01-16</th>\n",
       "      <td>Monday</td>\n",
       "      <td>28.25</td>\n",
       "      <td>28.2500</td>\n",
       "      <td>28.2500</td>\n",
       "      <td>28.2500</td>\n",
       "      <td>0</td>\n",
       "    </tr>\n",
       "    <tr>\n",
       "      <th>2012-01-17</th>\n",
       "      <td>Tuesday</td>\n",
       "      <td>28.37</td>\n",
       "      <td>28.6500</td>\n",
       "      <td>28.1700</td>\n",
       "      <td>28.2550</td>\n",
       "      <td>72395252</td>\n",
       "    </tr>\n",
       "    <tr>\n",
       "      <th>2012-01-18</th>\n",
       "      <td>Wednesday</td>\n",
       "      <td>28.27</td>\n",
       "      <td>28.4000</td>\n",
       "      <td>27.9700</td>\n",
       "      <td>28.2300</td>\n",
       "      <td>64860508</td>\n",
       "    </tr>\n",
       "    <tr>\n",
       "      <th>2012-01-19</th>\n",
       "      <td>Thursday</td>\n",
       "      <td>28.13</td>\n",
       "      <td>28.4350</td>\n",
       "      <td>28.0300</td>\n",
       "      <td>28.1200</td>\n",
       "      <td>74053427</td>\n",
       "    </tr>\n",
       "    <tr>\n",
       "      <th>2012-01-20</th>\n",
       "      <td>Friday</td>\n",
       "      <td>28.84</td>\n",
       "      <td>29.7400</td>\n",
       "      <td>28.7500</td>\n",
       "      <td>29.7100</td>\n",
       "      <td>165902897</td>\n",
       "    </tr>\n",
       "    <tr>\n",
       "      <th>2012-01-23</th>\n",
       "      <td>Monday</td>\n",
       "      <td>29.51</td>\n",
       "      <td>29.9500</td>\n",
       "      <td>29.3500</td>\n",
       "      <td>29.7300</td>\n",
       "      <td>76081814</td>\n",
       "    </tr>\n",
       "    <tr>\n",
       "      <th>2012-01-24</th>\n",
       "      <td>Tuesday</td>\n",
       "      <td>29.46</td>\n",
       "      <td>29.5703</td>\n",
       "      <td>29.1800</td>\n",
       "      <td>29.3400</td>\n",
       "      <td>51711367</td>\n",
       "    </tr>\n",
       "    <tr>\n",
       "      <th>2012-01-25</th>\n",
       "      <td>Wednesday</td>\n",
       "      <td>29.07</td>\n",
       "      <td>29.6500</td>\n",
       "      <td>29.0700</td>\n",
       "      <td>29.5600</td>\n",
       "      <td>59236267</td>\n",
       "    </tr>\n",
       "    <tr>\n",
       "      <th>2012-01-26</th>\n",
       "      <td>Thursday</td>\n",
       "      <td>29.61</td>\n",
       "      <td>29.7000</td>\n",
       "      <td>29.4000</td>\n",
       "      <td>29.5000</td>\n",
       "      <td>49107458</td>\n",
       "    </tr>\n",
       "    <tr>\n",
       "      <th>2012-01-27</th>\n",
       "      <td>Friday</td>\n",
       "      <td>29.44</td>\n",
       "      <td>29.5300</td>\n",
       "      <td>29.1700</td>\n",
       "      <td>29.2300</td>\n",
       "      <td>44190573</td>\n",
       "    </tr>\n",
       "    <tr>\n",
       "      <th>2012-01-30</th>\n",
       "      <td>Monday</td>\n",
       "      <td>29.00</td>\n",
       "      <td>29.6200</td>\n",
       "      <td>28.8300</td>\n",
       "      <td>29.6100</td>\n",
       "      <td>51114661</td>\n",
       "    </tr>\n",
       "    <tr>\n",
       "      <th>2012-01-31</th>\n",
       "      <td>Tuesday</td>\n",
       "      <td>29.66</td>\n",
       "      <td>29.7000</td>\n",
       "      <td>29.2300</td>\n",
       "      <td>29.5300</td>\n",
       "      <td>50572372</td>\n",
       "    </tr>\n",
       "    <tr>\n",
       "      <th>2012-02-01</th>\n",
       "      <td>Wednesday</td>\n",
       "      <td>29.76</td>\n",
       "      <td>30.0500</td>\n",
       "      <td>29.7600</td>\n",
       "      <td>29.8900</td>\n",
       "      <td>67413817</td>\n",
       "    </tr>\n",
       "    <tr>\n",
       "      <th>2012-02-02</th>\n",
       "      <td>Thursday</td>\n",
       "      <td>29.90</td>\n",
       "      <td>30.1700</td>\n",
       "      <td>29.7100</td>\n",
       "      <td>29.9500</td>\n",
       "      <td>52226255</td>\n",
       "    </tr>\n",
       "    <tr>\n",
       "      <th>2012-02-03</th>\n",
       "      <td>Friday</td>\n",
       "      <td>30.11</td>\n",
       "      <td>30.4000</td>\n",
       "      <td>30.0900</td>\n",
       "      <td>30.2400</td>\n",
       "      <td>41845397</td>\n",
       "    </tr>\n",
       "    <tr>\n",
       "      <th>2012-02-06</th>\n",
       "      <td>Monday</td>\n",
       "      <td>30.04</td>\n",
       "      <td>30.2200</td>\n",
       "      <td>29.9700</td>\n",
       "      <td>30.2000</td>\n",
       "      <td>28040378</td>\n",
       "    </tr>\n",
       "    <tr>\n",
       "      <th>2012-02-07</th>\n",
       "      <td>Tuesday</td>\n",
       "      <td>30.10</td>\n",
       "      <td>30.4850</td>\n",
       "      <td>30.0500</td>\n",
       "      <td>30.3500</td>\n",
       "      <td>39242529</td>\n",
       "    </tr>\n",
       "    <tr>\n",
       "      <th>2012-02-08</th>\n",
       "      <td>Wednesday</td>\n",
       "      <td>30.22</td>\n",
       "      <td>30.6700</td>\n",
       "      <td>30.2200</td>\n",
       "      <td>30.6600</td>\n",
       "      <td>49662740</td>\n",
       "    </tr>\n",
       "    <tr>\n",
       "      <th>2012-02-09</th>\n",
       "      <td>Thursday</td>\n",
       "      <td>30.62</td>\n",
       "      <td>30.8000</td>\n",
       "      <td>30.4800</td>\n",
       "      <td>30.7700</td>\n",
       "      <td>50481549</td>\n",
       "    </tr>\n",
       "    <tr>\n",
       "      <th>2012-02-10</th>\n",
       "      <td>Friday</td>\n",
       "      <td>30.65</td>\n",
       "      <td>30.8000</td>\n",
       "      <td>30.3600</td>\n",
       "      <td>30.4950</td>\n",
       "      <td>44606751</td>\n",
       "    </tr>\n",
       "    <tr>\n",
       "      <th>2012-02-13</th>\n",
       "      <td>Monday</td>\n",
       "      <td>30.63</td>\n",
       "      <td>30.7700</td>\n",
       "      <td>30.4300</td>\n",
       "      <td>30.5800</td>\n",
       "      <td>33322516</td>\n",
       "    </tr>\n",
       "  </tbody>\n",
       "</table>\n",
       "<p>266 rows × 6 columns</p>\n",
       "</div>"
      ],
      "text/plain": [
       "           Day of Week   Open     High      Low    Close     Volume\n",
       "Date                                                               \n",
       "2011-02-07      Monday  27.83  28.3400  27.7900  28.1975   68980871\n",
       "2011-02-08     Tuesday  28.10  28.3400  28.0500  28.2825   34910467\n",
       "2011-02-09   Wednesday  28.18  28.2600  27.9100  27.9700   52905018\n",
       "2011-02-10    Thursday  27.94  27.9400  27.2900  27.5000   76672349\n",
       "2011-02-11      Friday  27.75  27.8099  27.0700  27.2500   83939643\n",
       "2011-02-14      Monday  27.20  27.2700  26.9500  27.2300   56766112\n",
       "2011-02-15     Tuesday  27.04  27.3300  26.9500  26.9600   44120592\n",
       "2011-02-16   Wednesday  27.03  27.0700  26.6000  27.0200   70817867\n",
       "2011-02-17    Thursday  26.96  27.3700  26.9100  27.2100   57211558\n",
       "2011-02-18      Friday  27.18  27.2100  26.9900  27.0600   68672855\n",
       "2011-02-21      Monday  27.18  27.2100  26.9900  27.0600          0\n",
       "2011-02-22     Tuesday  26.73  27.1000  26.5200  26.5900   60888998\n",
       "2011-02-23   Wednesday  26.55  26.8600  26.4300  26.5900   60234083\n",
       "2011-02-24    Thursday  26.67  27.0600  26.5000  26.7700   64499005\n",
       "2011-02-25      Friday  26.88  26.9500  26.5000  26.5500   53006263\n",
       "2011-02-28      Monday  26.64  26.8600  26.5100  26.5800   51379675\n",
       "2011-03-01     Tuesday  26.60  26.7800  26.1500  26.1600   60054986\n",
       "2011-03-02   Wednesday  26.10  26.3700  26.0400  26.0775   48658193\n",
       "2011-03-03    Thursday  26.25  26.4000  26.1800  26.2000   68271500\n",
       "2011-03-04      Friday  26.21  26.2400  25.8000  25.9525   70437154\n",
       "2011-03-07      Monday  26.13  26.2700  25.5500  25.7200   64987131\n",
       "2011-03-08     Tuesday  25.78  26.0200  25.6500  25.9100   50555383\n",
       "2011-03-09   Wednesday  25.80  25.9800  25.6600  25.8900   39792379\n",
       "2011-03-10    Thursday  25.67  25.7100  25.3500  25.4100   66557502\n",
       "2011-03-11      Friday  25.41  25.8500  25.3600  25.6800   49906849\n",
       "2011-03-14      Monday  25.47  25.7600  25.3500  25.6900   54456558\n",
       "2011-03-15     Tuesday  25.10  25.4700  25.0000  25.3900   76064201\n",
       "2011-03-16   Wednesday  25.23  25.2800  24.6800  24.7900  100718988\n",
       "2011-03-17    Thursday  25.06  25.2200  24.7500  24.7800   62506557\n",
       "2011-03-18      Friday  25.04  25.1800  24.7979  24.8000   85486688\n",
       "...                ...    ...      ...      ...      ...        ...\n",
       "2012-01-03     Tuesday  26.50  26.9600  26.3900  26.7650   64735391\n",
       "2012-01-04   Wednesday  26.82  27.4700  26.7800  27.4000   80519402\n",
       "2012-01-05    Thursday  27.40  27.7280  27.2900  27.6800   56082205\n",
       "2012-01-06      Friday  27.53  28.1900  27.5250  28.1050   99459469\n",
       "2012-01-09      Monday  28.03  28.1000  27.7200  27.7400   59708266\n",
       "2012-01-10     Tuesday  27.90  28.1500  27.7500  27.8400   60014333\n",
       "2012-01-11   Wednesday  27.45  27.9800  27.3700  27.7200   65586477\n",
       "2012-01-12    Thursday  27.87  28.0200  27.6450  28.0000   49375477\n",
       "2012-01-13      Friday  27.92  28.2500  27.7900  28.2500   60204902\n",
       "2012-01-16      Monday  28.25  28.2500  28.2500  28.2500          0\n",
       "2012-01-17     Tuesday  28.37  28.6500  28.1700  28.2550   72395252\n",
       "2012-01-18   Wednesday  28.27  28.4000  27.9700  28.2300   64860508\n",
       "2012-01-19    Thursday  28.13  28.4350  28.0300  28.1200   74053427\n",
       "2012-01-20      Friday  28.84  29.7400  28.7500  29.7100  165902897\n",
       "2012-01-23      Monday  29.51  29.9500  29.3500  29.7300   76081814\n",
       "2012-01-24     Tuesday  29.46  29.5703  29.1800  29.3400   51711367\n",
       "2012-01-25   Wednesday  29.07  29.6500  29.0700  29.5600   59236267\n",
       "2012-01-26    Thursday  29.61  29.7000  29.4000  29.5000   49107458\n",
       "2012-01-27      Friday  29.44  29.5300  29.1700  29.2300   44190573\n",
       "2012-01-30      Monday  29.00  29.6200  28.8300  29.6100   51114661\n",
       "2012-01-31     Tuesday  29.66  29.7000  29.2300  29.5300   50572372\n",
       "2012-02-01   Wednesday  29.76  30.0500  29.7600  29.8900   67413817\n",
       "2012-02-02    Thursday  29.90  30.1700  29.7100  29.9500   52226255\n",
       "2012-02-03      Friday  30.11  30.4000  30.0900  30.2400   41845397\n",
       "2012-02-06      Monday  30.04  30.2200  29.9700  30.2000   28040378\n",
       "2012-02-07     Tuesday  30.10  30.4850  30.0500  30.3500   39242529\n",
       "2012-02-08   Wednesday  30.22  30.6700  30.2200  30.6600   49662740\n",
       "2012-02-09    Thursday  30.62  30.8000  30.4800  30.7700   50481549\n",
       "2012-02-10      Friday  30.65  30.8000  30.3600  30.4950   44606751\n",
       "2012-02-13      Monday  30.63  30.7700  30.4300  30.5800   33322516\n",
       "\n",
       "[266 rows x 6 columns]"
      ]
     },
     "execution_count": 22,
     "metadata": {},
     "output_type": "execute_result"
    }
   ],
   "source": [
    "stocks.truncate(before=\"2011-02-05\", after =\"2012-02-13\")"
   ]
  },
  {
   "cell_type": "markdown",
   "metadata": {},
   "source": [
    "### `pd.DateOffset` Objects "
   ]
  },
  {
   "cell_type": "code",
   "execution_count": 30,
   "metadata": {
    "collapsed": false
   },
   "outputs": [
    {
     "ename": "TypeError",
     "evalue": "'numpy.int32' object is not callable",
     "output_type": "error",
     "traceback": [
      "\u001b[1;31m---------------------------------------------------------------------------\u001b[0m",
      "\u001b[1;31mTypeError\u001b[0m                                 Traceback (most recent call last)",
      "\u001b[1;32m<ipython-input-30-4d57a9e843a3>\u001b[0m in \u001b[0;36m<module>\u001b[1;34m()\u001b[0m\n\u001b[0;32m      5\u001b[0m \u001b[0mstocks\u001b[0m\u001b[1;33m.\u001b[0m\u001b[0mindex\u001b[0m \u001b[1;33m=\u001b[0m \u001b[0mstocks\u001b[0m\u001b[1;33m.\u001b[0m\u001b[0mindex\u001b[0m\u001b[1;33m.\u001b[0m\u001b[0mdroplevel\u001b[0m\u001b[1;33m(\u001b[0m\u001b[1;36m0\u001b[0m\u001b[1;33m)\u001b[0m\u001b[1;33m\u001b[0m\u001b[0m\n\u001b[0;32m      6\u001b[0m \u001b[0mstocks\u001b[0m \u001b[1;33m=\u001b[0m \u001b[0mstocks\u001b[0m\u001b[1;33m[\u001b[0m\u001b[1;33m[\u001b[0m\u001b[1;34m\"Open\"\u001b[0m\u001b[1;33m,\u001b[0m\u001b[1;34m\"High\"\u001b[0m\u001b[1;33m,\u001b[0m\u001b[1;34m\"Low\"\u001b[0m\u001b[1;33m,\u001b[0m\u001b[1;34m\"Close\"\u001b[0m\u001b[1;33m,\u001b[0m\u001b[1;34m\"Volume\"\u001b[0m\u001b[1;33m]\u001b[0m\u001b[1;33m]\u001b[0m\u001b[1;33m\u001b[0m\u001b[0m\n\u001b[1;32m----> 7\u001b[1;33m \u001b[0mstocks\u001b[0m\u001b[1;33m.\u001b[0m\u001b[0msize\u001b[0m\u001b[1;33m(\u001b[0m\u001b[1;33m)\u001b[0m\u001b[1;33m\u001b[0m\u001b[0m\n\u001b[0m",
      "\u001b[1;31mTypeError\u001b[0m: 'numpy.int32' object is not callable"
     ]
    }
   ],
   "source": [
    "company = \"MSFT\"\n",
    "start   = dt.date(2000,1,1)\n",
    "end     = dt.datetime.now()\n",
    "stocks = data.DataReader(name=company, data_source=\"morningstar\", start=start, end=end)\n",
    "stocks.index = stocks.index.droplevel(0)\n",
    "stocks = stocks[[\"Open\",\"High\",\"Low\",\"Close\",\"Volume\"]]\n",
    "stocks.tail(3)"
   ]
  },
  {
   "cell_type": "code",
   "execution_count": 26,
   "metadata": {
    "collapsed": false
   },
   "outputs": [
    {
     "data": {
      "text/plain": [
       "(4777, 5)"
      ]
     },
     "execution_count": 26,
     "metadata": {},
     "output_type": "execute_result"
    }
   ],
   "source": [
    "stocks.shape"
   ]
  },
  {
   "cell_type": "code",
   "execution_count": 28,
   "metadata": {
    "collapsed": false
   },
   "outputs": [
    {
     "data": {
      "text/plain": [
       "DatetimeIndex(['2001-01-03', '2001-01-04', '2001-01-05', '2001-01-06',\n",
       "               '2001-01-07', '2001-01-10', '2001-01-11', '2001-01-12',\n",
       "               '2001-01-13', '2001-01-14',\n",
       "               ...\n",
       "               '2019-04-11', '2019-04-12', '2019-04-13', '2019-04-16',\n",
       "               '2019-04-17', '2019-04-18', '2019-04-19', '2019-04-20',\n",
       "               '2019-04-23', '2019-04-24'],\n",
       "              dtype='datetime64[ns]', name='Date', length=4777, freq=None)"
      ]
     },
     "execution_count": 28,
     "metadata": {},
     "output_type": "execute_result"
    }
   ],
   "source": [
    "stocks.index + pd.DateOffset(years=1)"
   ]
  },
  {
   "cell_type": "code",
   "execution_count": 32,
   "metadata": {
    "collapsed": false
   },
   "outputs": [
    {
     "data": {
      "text/plain": [
       "DatetimeIndex(['2000-01-31', '2000-01-31', '2000-01-31', '2000-01-31',\n",
       "               '2000-01-31', '2000-01-31', '2000-01-31', '2000-01-31',\n",
       "               '2000-01-31', '2000-01-31',\n",
       "               ...\n",
       "               '2018-04-30', '2018-04-30', '2018-04-30', '2018-04-30',\n",
       "               '2018-04-30', '2018-04-30', '2018-04-30', '2018-04-30',\n",
       "               '2018-04-30', '2018-04-30'],\n",
       "              dtype='datetime64[ns]', name='Date', length=4777, freq=None)"
      ]
     },
     "execution_count": 32,
     "metadata": {},
     "output_type": "execute_result"
    }
   ],
   "source": [
    "stocks.index + pd.tseries.offsets.MonthEnd()"
   ]
  },
  {
   "cell_type": "code",
   "execution_count": 34,
   "metadata": {
    "collapsed": true
   },
   "outputs": [],
   "source": [
    "from pandas.tseries.offsets import *"
   ]
  },
  {
   "cell_type": "code",
   "execution_count": 38,
   "metadata": {
    "collapsed": false
   },
   "outputs": [
    {
     "data": {
      "text/plain": [
       "DatetimeIndex(['1999-12-31', '1999-12-31', '1999-12-31', '1999-12-31',\n",
       "               '1999-12-31', '1999-12-31', '1999-12-31', '1999-12-31',\n",
       "               '1999-12-31', '1999-12-31',\n",
       "               ...\n",
       "               '2018-03-31', '2018-03-31', '2018-03-31', '2018-03-31',\n",
       "               '2018-03-31', '2018-03-31', '2018-03-31', '2018-03-31',\n",
       "               '2018-03-31', '2018-03-31'],\n",
       "              dtype='datetime64[ns]', name='Date', length=4777, freq=None)"
      ]
     },
     "execution_count": 38,
     "metadata": {},
     "output_type": "execute_result"
    }
   ],
   "source": [
    "stocks.index -  BMonthEnd()"
   ]
  },
  {
   "cell_type": "code",
   "execution_count": 42,
   "metadata": {
    "collapsed": false
   },
   "outputs": [
    {
     "data": {
      "text/html": [
       "<div>\n",
       "<style scoped>\n",
       "    .dataframe tbody tr th:only-of-type {\n",
       "        vertical-align: middle;\n",
       "    }\n",
       "\n",
       "    .dataframe tbody tr th {\n",
       "        vertical-align: top;\n",
       "    }\n",
       "\n",
       "    .dataframe thead th {\n",
       "        text-align: right;\n",
       "    }\n",
       "</style>\n",
       "<table border=\"1\" class=\"dataframe\">\n",
       "  <thead>\n",
       "    <tr style=\"text-align: right;\">\n",
       "      <th></th>\n",
       "      <th>order_date</th>\n",
       "      <th>delivery_date</th>\n",
       "    </tr>\n",
       "    <tr>\n",
       "      <th>ID</th>\n",
       "      <th></th>\n",
       "      <th></th>\n",
       "    </tr>\n",
       "  </thead>\n",
       "  <tbody>\n",
       "    <tr>\n",
       "      <th>1</th>\n",
       "      <td>1998-05-24</td>\n",
       "      <td>1999-02-05</td>\n",
       "    </tr>\n",
       "    <tr>\n",
       "      <th>2</th>\n",
       "      <td>1992-04-22</td>\n",
       "      <td>1998-03-06</td>\n",
       "    </tr>\n",
       "    <tr>\n",
       "      <th>4</th>\n",
       "      <td>1991-02-10</td>\n",
       "      <td>1992-08-26</td>\n",
       "    </tr>\n",
       "  </tbody>\n",
       "</table>\n",
       "</div>"
      ],
      "text/plain": [
       "   order_date delivery_date\n",
       "ID                         \n",
       "1  1998-05-24    1999-02-05\n",
       "2  1992-04-22    1998-03-06\n",
       "4  1991-02-10    1992-08-26"
      ]
     },
     "execution_count": 42,
     "metadata": {},
     "output_type": "execute_result"
    }
   ],
   "source": [
    "shipping = pd.read_csv(\"files/ecommerce.csv\", index_col = \"ID\", parse_dates=[\"order_date\", \"delivery_date\"])\n",
    "shipping.head(3)"
   ]
  },
  {
   "cell_type": "code",
   "execution_count": 44,
   "metadata": {
    "collapsed": false
   },
   "outputs": [],
   "source": [
    "shipping[\"Delivery Time\"] = shipping[\"delivery_date\"] - shipping[\"order_date\"]"
   ]
  },
  {
   "cell_type": "code",
   "execution_count": 45,
   "metadata": {
    "collapsed": false
   },
   "outputs": [
    {
     "data": {
      "text/html": [
       "<div>\n",
       "<style scoped>\n",
       "    .dataframe tbody tr th:only-of-type {\n",
       "        vertical-align: middle;\n",
       "    }\n",
       "\n",
       "    .dataframe tbody tr th {\n",
       "        vertical-align: top;\n",
       "    }\n",
       "\n",
       "    .dataframe thead th {\n",
       "        text-align: right;\n",
       "    }\n",
       "</style>\n",
       "<table border=\"1\" class=\"dataframe\">\n",
       "  <thead>\n",
       "    <tr style=\"text-align: right;\">\n",
       "      <th></th>\n",
       "      <th>order_date</th>\n",
       "      <th>delivery_date</th>\n",
       "      <th>Delivery Time</th>\n",
       "    </tr>\n",
       "    <tr>\n",
       "      <th>ID</th>\n",
       "      <th></th>\n",
       "      <th></th>\n",
       "      <th></th>\n",
       "    </tr>\n",
       "  </thead>\n",
       "  <tbody>\n",
       "    <tr>\n",
       "      <th>1</th>\n",
       "      <td>1998-05-24</td>\n",
       "      <td>1999-02-05</td>\n",
       "      <td>257 days</td>\n",
       "    </tr>\n",
       "    <tr>\n",
       "      <th>2</th>\n",
       "      <td>1992-04-22</td>\n",
       "      <td>1998-03-06</td>\n",
       "      <td>2144 days</td>\n",
       "    </tr>\n",
       "    <tr>\n",
       "      <th>4</th>\n",
       "      <td>1991-02-10</td>\n",
       "      <td>1992-08-26</td>\n",
       "      <td>563 days</td>\n",
       "    </tr>\n",
       "  </tbody>\n",
       "</table>\n",
       "</div>"
      ],
      "text/plain": [
       "   order_date delivery_date Delivery Time\n",
       "ID                                       \n",
       "1  1998-05-24    1999-02-05      257 days\n",
       "2  1992-04-22    1998-03-06     2144 days\n",
       "4  1991-02-10    1992-08-26      563 days"
      ]
     },
     "execution_count": 45,
     "metadata": {},
     "output_type": "execute_result"
    }
   ],
   "source": [
    "shipping.head(3)"
   ]
  },
  {
   "cell_type": "code",
   "execution_count": null,
   "metadata": {
    "collapsed": true
   },
   "outputs": [],
   "source": []
  }
 ],
 "metadata": {
  "kernelspec": {
   "display_name": "Python [py3]",
   "language": "python",
   "name": "Python [py3]"
  },
  "language_info": {
   "codemirror_mode": {
    "name": "ipython",
    "version": 3
   },
   "file_extension": ".py",
   "mimetype": "text/x-python",
   "name": "python",
   "nbconvert_exporter": "python",
   "pygments_lexer": "ipython3",
   "version": "3.6.5"
  }
 },
 "nbformat": 4,
 "nbformat_minor": 0
}
